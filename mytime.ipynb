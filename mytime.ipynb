{
 "cells": [
  {
   "cell_type": "code",
   "execution_count": 31,
   "metadata": {
    "collapsed": true
   },
   "outputs": [],
   "source": [
    "import datetime\n",
    "\n",
    "def nowtime():\n",
    "    return datetime.datetime.utcnow()\n",
    "\n",
    "def toutc(timestamp = None):\n",
    "    t = timestamp\n",
    "    if t is None:\n",
    "        t = nowtime()\n",
    "    utc = t.strftime(\"%Y-%m-%d %H:%M:%S m : %f, +00:00 (UTC)\")\n",
    "    return {'strf' : utc, 'timestamp' : t.timestamp(), 'datetime' : t}\n",
    "\n",
    "def togmt9(timestamp = None):\n",
    "    utc = toutc(timestamp)['datetime']\n",
    "    gmt9 = utc + datetime.timedelta(hours=9)\n",
    "    gmt9_strf = gmt9.strftime(\"%Y-%m-%d %H:%M:%S m : %f, +09:00 (UTC)\")\n",
    "    return {'strf' : gmt9_strf, 'timestamp' : gmt9.timestamp(), 'datetime' : gmt9}"
   ]
  },
  {
   "cell_type": "code",
   "execution_count": 33,
   "metadata": {},
   "outputs": [
    {
     "name": "stdout",
     "output_type": "stream",
     "text": [
      "{'strf': '2018-08-03 17:19:47 m : 677200, +00:00 (UTC)', 'timestamp': 1533284387.6772, 'datetime': datetime.datetime(2018, 8, 3, 17, 19, 47, 677200)}\n{'strf': '2018-08-04 02:19:47 m : 677200, +00:00 (UTC)', 'timestamp': 1533316787.6772, 'datetime': datetime.datetime(2018, 8, 4, 2, 19, 47, 677200)}\n1533316787.6771998\n"
     ]
    }
   ],
   "source": [
    "import time\n",
    "print(toutc())\n",
    "print(togmt9())\n",
    "print(time.time())"
   ]
  },
  {
   "cell_type": "code",
   "execution_count": null,
   "metadata": {},
   "outputs": [],
   "source": []
  }
 ],
 "metadata": {
  "kernelspec": {
   "display_name": "Python 2",
   "language": "python",
   "name": "python2"
  },
  "language_info": {
   "codemirror_mode": {
    "name": "ipython",
    "version": 2
   },
   "file_extension": ".py",
   "mimetype": "text/x-python",
   "name": "python",
   "nbconvert_exporter": "python",
   "pygments_lexer": "ipython2",
   "version": "2.7.6"
  }
 },
 "nbformat": 4,
 "nbformat_minor": 0
}
